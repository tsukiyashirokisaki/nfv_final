{
 "cells": [
  {
   "cell_type": "code",
   "execution_count": 1,
   "id": "b14f5181",
   "metadata": {},
   "outputs": [],
   "source": [
    "def java_string_hashcode(s):\n",
    "    h = 0\n",
    "    for c in s:\n",
    "        h = (31 * h + ord(c)) & 0xFFFFFFFF\n",
    "    return ((h + 0x80000000) & 0xFFFFFFFF) - 0x80000000"
   ]
  },
  {
   "cell_type": "code",
   "execution_count": 2,
   "id": "18760b75",
   "metadata": {},
   "outputs": [
    {
     "data": {
      "text/plain": [
       "51669"
      ]
     },
     "execution_count": 2,
     "metadata": {},
     "output_type": "execute_result"
    }
   ],
   "source": [
    "java_string_hashcode(\"456\")"
   ]
  },
  {
   "cell_type": "code",
   "execution_count": null,
   "id": "3c22e5f6",
   "metadata": {},
   "outputs": [],
   "source": []
  }
 ],
 "metadata": {
  "kernelspec": {
   "display_name": "Python 3",
   "language": "python",
   "name": "python3"
  },
  "language_info": {
   "codemirror_mode": {
    "name": "ipython",
    "version": 3
   },
   "file_extension": ".py",
   "mimetype": "text/x-python",
   "name": "python",
   "nbconvert_exporter": "python",
   "pygments_lexer": "ipython3",
   "version": "3.8.8"
  }
 },
 "nbformat": 4,
 "nbformat_minor": 5
}
